{
 "cells": [
  {
   "cell_type": "markdown",
   "metadata": {},
   "source": [
    "# Neutrino event classification\n",
    "\n",
    "This mini-project's dataset is comprised of a number of small files containing images of simulated neutrino interactions in a hypothetical detector that looks an awful lot like the detectors of the NOvA experiment. For each neutrino interaction the images consist of two $100 \\times 80$ pixel images that represent the $x \\times z$ and $y \\times z$ projections of the tracks of particles in the detector.\n",
    "\n",
    "The data for this mini-project comes in the form of the following files:\n",
    "\n",
    "| File | Description |\n",
    "| ----------- | ----------- |\n",
    "| neutrino1.h5 | The 1st HDF5 file containing event images and meta deta |\n",
    "| $\\vdots$ | The middle ones |\n",
    "| neutrino200.h5| The 200th HDF5 file|\n",
    "\n",
    "\n",
    "The images show the energy deposited by simulated neutrinos in a NOvA like detector. Some of the meta information in the hdf5 file is described below\n",
    "\n",
    "| Label | Description |\n",
    "| ----------- | ----------- |\n",
    "| neutrino/nuenergy | Neutrino Energy (GeV) |\n",
    "| neutrino/lepenergy | Lepton Energy (GeV) |\n",
    "| neutrino/finalstate | Interaction |\n",
    "| neutrino/finalstate | Final State |\n",
    " \n",
    "\n",
    "The [PDG code](https://pdg.lbl.gov/2019/reviews/rpp2019-rev-monte-carlo-numbering.pdf) is a number which identifies the particle type (e.g electron=11, electron-neutrino=12, etc.)\n",
    "\n",
    "The $interaction$ says what kind of interaction occured and is defined in the enumeration below.\n",
    "\n",
    "## Machine learning tasks\n",
    "1. Develop a machine learning classifier that can successfully identify $\\nu_\\mu$ charged-current events\n",
    "2. Test your machine learning classifier and investigate how the efficiency of the classifier depends on the meta data variables shown above\n",
    "\n",
    "### Potential extensions\n",
    "1. Write a machine learning algorithm to determine the energy of the neutrino\n",
    "2. Write a machine learning algorithm to determine the flavour of the neutrino\n",
    "3. Write a machine learning algorithm to determine $y=$ lepton energy over neutrino energy\n",
    "4. Write a machine learning algorithm to determine the number of protons or pions\n",
    "5. Write a machine learning algorithm to determine the interaction mode.\n",
    "\n",
    "\n"
   ]
  },
  {
   "cell_type": "code",
   "execution_count": 1,
   "metadata": {},
   "outputs": [],
   "source": [
    "import h5py\n",
    "import numpy as np\n",
    "import matplotlib.pyplot as plt "
   ]
  },
  {
   "cell_type": "code",
   "execution_count": null,
   "metadata": {},
   "outputs": [],
   "source": [
    "import enum \n",
    "class Interaction(enum.Enum):\n",
    "    kNumuQE = 0             # Numu CC QE interaction\n",
    "    kNumuRes =1             # Numu CC Resonant interaction\n",
    "    kNumuDIS = 2            # Numu CC DIS interaction\n",
    "    kNumuOther = 3          # Numu CC, other than above\n",
    "    kNueQE = 4              # Nue CC QE interaction\n",
    "    kNueRes = 5             # Nue CC Resonant interaction\n",
    "    kNueDIS = 6             # Nue CC DIS interaction\n",
    "    kNueOther = 7           # Nue CC, other than above\n",
    "    kNutauQE = 8            # Nutau CC QE interaction\n",
    "    kNutauRes = 9           # Nutau CC Resonant interaction\n",
    "    kNutauDIS = 10          # Nutau CC DIS interaction\n",
    "    kNutauOther = 11        # Nutau CC, other than above\n",
    "    kNuElectronElastic = 12 # NC Nu On E Scattering\n",
    "    kNC = 13                # NC interaction\n",
    "    kCosmic = 14            # Cosmic ray background\n",
    "    kOther = 15             # Something else.  Tau?  Hopefully we don't use this\n",
    "    kNIntType = 16          # Number of interaction types, used like a vector size\n",
    "\n",
    "\n",
    "class FinalState(enum.Enum):\n",
    "    kNumu0tr0sh=0                    # Numu CC - no track no shower\n",
    "    kNumu0tr1sh=1                    # Numu CC - no track  1 shower\n",
    "    kNumu0tr2sh=enum.auto()          # Numu CC - no track  2 shower\n",
    "    kNumu0trMsh=enum.auto()          # Numu CC - no track 3+ shower\n",
    "    kNumu1tr0sh=enum.auto()          # Numu CC -  1 track no shower\n",
    "    kNumu1tr1sh=enum.auto()          # Numu CC -  1 track  1 shower\n",
    "    kNumu1tr2sh=enum.auto()          # Numu CC -  1 track  2 shower\n",
    "    kNumu1trMsh=enum.auto()          # Numu CC -  1 track 3+ shower\n",
    "    kNumu2tr0sh=enum.auto()          # Numu CC -  2 track no shower\n",
    "    kNumu2tr1sh=enum.auto()          # Numu CC -  2 track  1 shower\n",
    "    kNumu2tr2sh=enum.auto()          # Numu CC -  2 track  2 shower\n",
    "    kNumu2trMsh=enum.auto()          # Numu CC -  2 track 3+ shower\n",
    "    kNumuMtr0sh=enum.auto()          # Numu CC - 3+ track no showe\n",
    "    kNumuMtr1sh=enum.auto()          # Numu CC - 3+ track  1 shower\n",
    "    kNumuMtr2sh=enum.auto()          # Numu CC - 3+ track  2 showe\n",
    "    kNumuMtrMsh=enum.auto()          # Numu CC - 3+ track 3+ shower\n",
    "    kNue0tr0sh=enum.auto()           # Nue CC - no track no shower\n",
    "    kNue0tr1sh=enum.auto()           # Nue CC - no track  1 shower\n",
    "    kNue0tr2sh=enum.auto()           # Nue CC - no track  2 shower\n",
    "    kNue0trMsh=enum.auto()           # Nue CC - no track 3+ shower\n",
    "    kNue1tr0sh=enum.auto()           # Nue CC -  1 track no shower\n",
    "    kNue1tr1sh=enum.auto()           # Nue CC -  1 track  1 shower\n",
    "    kNue1tr2sh=enum.auto()           # Nue CC -  1 track  2 shower\n",
    "    kNue1trMsh=enum.auto()           # Nue CC -  1 track 3+ shower\n",
    "    kNue2tr0sh=enum.auto()           # Nue CC -  2 track no shower\n",
    "    kNue2tr1sh=enum.auto()           # Nue CC -  2 track  1 shower\n",
    "    kNue2tr2sh=enum.auto()           # Nue CC -  2 track  2 shower\n",
    "    kNue2trMsh=enum.auto()           # Nue CC -  2 track 3+ shower\n",
    "    kNueMtr0sh=enum.auto()           # Nue CC - 3+ track no shower\n",
    "    kNueMtr1sh=enum.auto()           # Nue CC - 3+ track  1 shower\n",
    "    kNueMtr2sh=enum.auto()           # Nue CC - 3+ track  2 shower\n",
    "    kNueMtrMsh=enum.auto()           # Nue CC - 3+ track 3+ shower\n",
    "    kNC0tr0sh=enum.auto()            # NC CC - no track no shower\n",
    "    kNC0tr1sh=enum.auto()            # NC CC - no track  1 shower\n",
    "    kNC0tr2sh=enum.auto()            # NC CC - no track  2 shower\n",
    "    kNC0trMsh=enum.auto()            # NC CC - no track 3+ shower\n",
    "    kNC1tr0sh=enum.auto()            # NC CC -  1 track no shower\n",
    "    kNC1tr1sh=enum.auto()            # NC CC -  1 track  1 shower\n",
    "    kNC1tr2sh=enum.auto()            # NC CC -  1 track  2 shower\n",
    "    kNC1trMsh=enum.auto()            # NC CC -  1 track 3+ shower\n",
    "    kNC2tr0sh=enum.auto()            # NC CC -  2 track no shower\n",
    "    kNC2tr1sh=enum.auto()            # NC CC -  2 track  1 shower\n",
    "    kNC2tr2sh=enum.auto()            # NC CC -  2 track  2 shower\n",
    "    kNC2trMsh=enum.auto()            # NC CC -  2 track 3+ shower\n",
    "    kNCMtr0sh=enum.auto()            # NC CC - 3+ track no shower\n",
    "    kNCMtr1sh=enum.auto()            # NC CC - 3+ track  1 shower\n",
    "    kNCMtr2sh=enum.auto()            # NC CC - 3+ track  2 shower\n",
    "    kNCMtrMsh=enum.auto()            # NC CC - 3+ track 3+ shower\n",
    "    kCosmicFS=enum.auto()            # Cosmic ray background\n",
    "    kOtherFS=enum.auto()             # Something else.  Tau?  Hopefully we don't use this\n",
    "    kNFStType=enum.auto()            # Number of interaction types, used like a vector size"
   ]
  },
  {
   "cell_type": "code",
   "execution_count": null,
   "metadata": {},
   "outputs": [],
   "source": [
    "# import the urllib library\n",
    "import urllib.request\n",
    "\n",
    "# Copy a network object to a local file\n",
    "urllib.request.urlretrieve('http://www.hep.ucl.ac.uk/undergrad/0056/other/projects/nova/neutrino1.h5', \"neutrino1.h5\")\n",
    "\n",
    "# Open the local h5 file with h5py\n",
    "df=h5py.File('neutrino1.h5','r')"
   ]
  },
  {
   "cell_type": "code",
   "execution_count": null,
   "metadata": {},
   "outputs": [
    {
     "name": "stdout",
     "output_type": "stream",
     "text": [
      "<KeysViewHDF5 ['cvnmap', 'neutrino']>\n",
      "<KeysViewHDF5 ['cycle', 'evt', 'finalstate', 'finalstateprong', 'interaction', 'lepenergy', 'nuenergy', 'parent', 'particles', 'rec.training.trainingdata_idx', 'run', 'subevt', 'subrun', 'vtxx', 'vtxy', 'vtxz']>\n",
      "(7001, 16000)\n",
      "<HDF5 dataset \"evt\": shape (7001, 1), type \"<u4\">\n"
     ]
    }
   ],
   "source": [
    "# Print the keys in the neutrino meta data\n",
    "print(df.keys())\n",
    "print(df['neutrino'].keys())\n",
    "\n",
    "# Get an numpy array containing the event image, and reshape it from flat to 2x100x80\n",
    "print(np.shape(df['cvnmap']))\n",
    "print(df['neutrino']['evt'])\n",
    "event0=np.array(df['cvnmap'][3]).reshape((2,100,80))"
   ]
  },
  {
   "cell_type": "code",
   "execution_count": null,
   "metadata": {},
   "outputs": [
    {
     "data": {
      "text/plain": [
       "<matplotlib.image.AxesImage at 0x16fd01b4a60>"
      ]
     },
     "execution_count": 5,
     "metadata": {},
     "output_type": "execute_result"
    },
    {
     "data": {
      "image/png": "[encoded data removed]",
      "text/plain": [
       "<Figure size 640x480 with 2 Axes>"
      ]
     },
     "metadata": {},
     "output_type": "display_data"
    }
   ],
   "source": [
    "# Plot the first event, it is a nice long muon track\n",
    "fig, ax = plt.subplots(1,2)\n",
    "ax[0].imshow(event0[1].T)\n",
    "ax[1].imshow(event0[0].T)"
   ]
  },
  {
   "cell_type": "code",
   "execution_count": 6,
   "metadata": {},
   "outputs": [
    {
     "name": "stdout",
     "output_type": "stream",
     "text": [
      "Neutrino Final State code [46]\n",
      "Interaction was  Interaction.kNC\n",
      "Neutrino energy [13.677229] GeV\n"
     ]
    }
   ],
   "source": [
    "print(\"Neutrino Final State code\",df['neutrino']['finalstate'][3])\n",
    "print(\"Interaction was \",Interaction(df['neutrino']['interaction'][3]))\n",
    "print(\"Neutrino energy\",df['neutrino']['nuenergy'][3],\"GeV\")"
   ]
  },
  {
   "cell_type": "code",
   "execution_count": 7,
   "metadata": {},
   "outputs": [
    {
     "data": {
      "text/plain": [
       "(array([3358., 1891., 1013.,  394.,  184.,   85.,   44.,   14.,    8.,\n",
       "          10.]),\n",
       " array([ 0.        ,  8.22953796, 16.45907593, 24.68861389, 32.91815186,\n",
       "        41.14768982, 49.37722778, 57.60676575, 65.83630371, 74.06584167,\n",
       "        82.29537964]),\n",
       " <BarContainer object of 10 artists>)"
      ]
     },
     "execution_count": 7,
     "metadata": {},
     "output_type": "execute_result"
    },
    {
     "data": {
      "image/png": "[encoded data removed]",
      "text/plain": [
       "<Figure size 640x480 with 1 Axes>"
      ]
     },
     "metadata": {},
     "output_type": "display_data"
    }
   ],
   "source": [
    "fs=np.array(df['neutrino']['finalstate'])\n",
    "nuenergy=np.array(df['neutrino']['nuenergy'])\n",
    "fig, ax = plt.subplots()\n",
    "ax.hist(nuenergy)"
   ]
  }
 ],
 "metadata": {
  "kernelspec": {
   "display_name": "tf",
   "language": "python",
   "name": "python3"
  },
  "language_info": {
   "codemirror_mode": {
    "name": "ipython",
    "version": 3
   },
   "file_extension": ".py",
   "mimetype": "text/x-python",
   "name": "python",
   "nbconvert_exporter": "python",
   "pygments_lexer": "ipython3",
   "version": "3.9.21"
  }
 },
 "nbformat": 4,
 "nbformat_minor": 4
}
