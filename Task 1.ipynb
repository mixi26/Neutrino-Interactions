{
 "cells": [
  {
   "cell_type": "markdown",
   "metadata": {},
   "source": [
    "# Task 1\n",
    "Develop a machine learning classifier that can successfully identify $\\nu_\\mu$ charged-current events"
   ]
  },
  {
   "cell_type": "code",
   "execution_count": 1,
   "metadata": {},
   "outputs": [
    {
     "name": "stderr",
     "output_type": "stream",
     "text": [
      "2025-03-01 02:10:29.942331: I external/local_xla/xla/tsl/cuda/cudart_stub.cc:32] Could not find cuda drivers on your machine, GPU will not be used.\n",
      "2025-03-01 02:10:32.366418: I external/local_xla/xla/tsl/cuda/cudart_stub.cc:32] Could not find cuda drivers on your machine, GPU will not be used.\n",
      "2025-03-01 02:10:35.057456: E external/local_xla/xla/stream_executor/cuda/cuda_fft.cc:477] Unable to register cuFFT factory: Attempting to register factory for plugin cuFFT when one has already been registered\n",
      "WARNING: All log messages before absl::InitializeLog() is called are written to STDERR\n",
      "E0000 00:00:1740795037.378441  479796 cuda_dnn.cc:8310] Unable to register cuDNN factory: Attempting to register factory for plugin cuDNN when one has already been registered\n",
      "E0000 00:00:1740795037.978037  479796 cuda_blas.cc:1418] Unable to register cuBLAS factory: Attempting to register factory for plugin cuBLAS when one has already been registered\n",
      "2025-03-01 02:10:39.541911: I tensorflow/core/platform/cpu_feature_guard.cc:210] This TensorFlow binary is optimized to use available CPU instructions in performance-critical operations.\n",
      "To enable the following instructions: AVX2 FMA, in other operations, rebuild TensorFlow with the appropriate compiler flags.\n"
     ]
    },
    {
     "name": "stdout",
     "output_type": "stream",
     "text": [
      "2.18.0\n"
     ]
    }
   ],
   "source": [
    "# Import necessary libraries\n",
    "import numpy as np\n",
    "import matplotlib.pyplot as plt\n",
    "import math\n",
    "\n",
    "import tensorflow as tf\n",
    "from tensorflow import keras\n",
    "from tensorflow.keras import layers, models\n",
    "\n",
    "import matplotlib.style\n",
    "import matplotlib as mpl\n",
    "\n",
    "from scipy import linalg\n",
    "\n",
    "#Set default figure size\n",
    "#mpl.rcParams['figure.figsize'] = [12.0, 8.0]\n",
    "mpl.rcParams[\"legend.frameon\"] = False\n",
    "mpl.rcParams['figure.dpi']=150\n",
    "\n",
    "#Useful for debugging problems\n",
    "print(tf.__version__)"
   ]
  },
  {
   "cell_type": "code",
   "execution_count": 2,
   "metadata": {},
   "outputs": [],
   "source": [
    "import h5py\n",
    "import enum \n",
    "\n",
    "class Interaction(enum.Enum):\n",
    "    kNumuQE = 0             # Numu CC QE interaction\n",
    "    kNumuRes =1             # Numu CC Resonant interaction\n",
    "    kNumuDIS = 2            # Numu CC DIS interaction\n",
    "    kNumuOther = 3          # Numu CC, other than above\n",
    "    kNueQE = 4              # Nue CC QE interaction\n",
    "    kNueRes = 5             # Nue CC Resonant interaction\n",
    "    kNueDIS = 6             # Nue CC DIS interaction\n",
    "    kNueOther = 7           # Nue CC, other than above\n",
    "    kNutauQE = 8            # Nutau CC QE interaction\n",
    "    kNutauRes = 9           # Nutau CC Resonant interaction\n",
    "    kNutauDIS = 10          # Nutau CC DIS interaction\n",
    "    kNutauOther = 11        # Nutau CC, other than above\n",
    "    kNuElectronElastic = 12 # NC Nu On E Scattering\n",
    "    kNC = 13                # NC interaction\n",
    "    kCosmic = 14            # Cosmic ray background\n",
    "    kOther = 15             # Something else.  Tau?  Hopefully we don't use this\n",
    "    kNIntType = 16          # Number of interaction types, used like a vector size\n",
    "\n",
    "\n",
    "class FinalState(enum.Enum):\n",
    "    kNumu0tr0sh=0                    # Numu CC - no track no shower\n",
    "    kNumu0tr1sh=1                    # Numu CC - no track  1 shower\n",
    "    kNumu0tr2sh=enum.auto()          # Numu CC - no track  2 shower\n",
    "    kNumu0trMsh=enum.auto()          # Numu CC - no track 3+ shower\n",
    "    kNumu1tr0sh=enum.auto()          # Numu CC -  1 track no shower\n",
    "    kNumu1tr1sh=enum.auto()          # Numu CC -  1 track  1 shower\n",
    "    kNumu1tr2sh=enum.auto()          # Numu CC -  1 track  2 shower\n",
    "    kNumu1trMsh=enum.auto()          # Numu CC -  1 track 3+ shower\n",
    "    kNumu2tr0sh=enum.auto()          # Numu CC -  2 track no shower\n",
    "    kNumu2tr1sh=enum.auto()          # Numu CC -  2 track  1 shower\n",
    "    kNumu2tr2sh=enum.auto()          # Numu CC -  2 track  2 shower\n",
    "    kNumu2trMsh=enum.auto()          # Numu CC -  2 track 3+ shower\n",
    "    kNumuMtr0sh=enum.auto()          # Numu CC - 3+ track no showe\n",
    "    kNumuMtr1sh=enum.auto()          # Numu CC - 3+ track  1 shower\n",
    "    kNumuMtr2sh=enum.auto()          # Numu CC - 3+ track  2 showe\n",
    "    kNumuMtrMsh=enum.auto()          # Numu CC - 3+ track 3+ shower\n",
    "    kNue0tr0sh=enum.auto()           # Nue CC - no track no shower\n",
    "    kNue0tr1sh=enum.auto()           # Nue CC - no track  1 shower\n",
    "    kNue0tr2sh=enum.auto()           # Nue CC - no track  2 shower\n",
    "    kNue0trMsh=enum.auto()           # Nue CC - no track 3+ shower\n",
    "    kNue1tr0sh=enum.auto()           # Nue CC -  1 track no shower\n",
    "    kNue1tr1sh=enum.auto()           # Nue CC -  1 track  1 shower\n",
    "    kNue1tr2sh=enum.auto()           # Nue CC -  1 track  2 shower\n",
    "    kNue1trMsh=enum.auto()           # Nue CC -  1 track 3+ shower\n",
    "    kNue2tr0sh=enum.auto()           # Nue CC -  2 track no shower\n",
    "    kNue2tr1sh=enum.auto()           # Nue CC -  2 track  1 shower\n",
    "    kNue2tr2sh=enum.auto()           # Nue CC -  2 track  2 shower\n",
    "    kNue2trMsh=enum.auto()           # Nue CC -  2 track 3+ shower\n",
    "    kNueMtr0sh=enum.auto()           # Nue CC - 3+ track no shower\n",
    "    kNueMtr1sh=enum.auto()           # Nue CC - 3+ track  1 shower\n",
    "    kNueMtr2sh=enum.auto()           # Nue CC - 3+ track  2 shower\n",
    "    kNueMtrMsh=enum.auto()           # Nue CC - 3+ track 3+ shower\n",
    "    kNC0tr0sh=enum.auto()            # NC CC - no track no shower\n",
    "    kNC0tr1sh=enum.auto()            # NC CC - no track  1 shower\n",
    "    kNC0tr2sh=enum.auto()            # NC CC - no track  2 shower\n",
    "    kNC0trMsh=enum.auto()            # NC CC - no track 3+ shower\n",
    "    kNC1tr0sh=enum.auto()            # NC CC -  1 track no shower\n",
    "    kNC1tr1sh=enum.auto()            # NC CC -  1 track  1 shower\n",
    "    kNC1tr2sh=enum.auto()            # NC CC -  1 track  2 shower\n",
    "    kNC1trMsh=enum.auto()            # NC CC -  1 track 3+ shower\n",
    "    kNC2tr0sh=enum.auto()            # NC CC -  2 track no shower\n",
    "    kNC2tr1sh=enum.auto()            # NC CC -  2 track  1 shower\n",
    "    kNC2tr2sh=enum.auto()            # NC CC -  2 track  2 shower\n",
    "    kNC2trMsh=enum.auto()            # NC CC -  2 track 3+ shower\n",
    "    kNCMtr0sh=enum.auto()            # NC CC - 3+ track no shower\n",
    "    kNCMtr1sh=enum.auto()            # NC CC - 3+ track  1 shower\n",
    "    kNCMtr2sh=enum.auto()            # NC CC - 3+ track  2 shower\n",
    "    kNCMtrMsh=enum.auto()            # NC CC - 3+ track 3+ shower\n",
    "    kCosmicFS=enum.auto()            # Cosmic ray background\n",
    "    kOtherFS=enum.auto()             # Something else.  Tau?  Hopefully we don't use this\n",
    "    kNFStType=enum.auto()            # Number of interaction types, used like a vector size"
   ]
  },
  {
   "cell_type": "code",
   "execution_count": 3,
   "metadata": {},
   "outputs": [],
   "source": [
    "# import the urllib library\n",
    "import urllib.request\n",
    "\n",
    "# Copy a network object to a local file\n",
    "#urllib.request.urlretrieve('http://www.hep.ucl.ac.uk/undergrad/0056/other/projects/nova/neutrino1.h5', \"neutrino1.h5\")\n",
    "\n",
    "# Open the local h5 file with h5py\n",
    "df=h5py.File('nova/neutrino1.h5','r')"
   ]
  },
  {
   "cell_type": "code",
   "execution_count": 4,
   "metadata": {},
   "outputs": [
    {
     "name": "stdout",
     "output_type": "stream",
     "text": [
      "<KeysViewHDF5 ['cvnmap', 'neutrino']>\n",
      "<KeysViewHDF5 ['cycle', 'evt', 'finalstate', 'finalstateprong', 'interaction', 'lepenergy', 'nuenergy', 'parent', 'particles', 'rec.training.trainingdata_idx', 'run', 'subevt', 'subrun', 'vtxx', 'vtxy', 'vtxz']>\n",
      "(7001, 16000)\n",
      "<HDF5 dataset \"evt\": shape (7001, 1), type \"<u4\">\n"
     ]
    }
   ],
   "source": [
    "# Print the keys in the neutrino meta data\n",
    "print(df.keys())\n",
    "print(df['neutrino'].keys())\n",
    "\n",
    "# Get a numpy array containing the event image, and reshape it from flat to 2x100x80\n",
    "print(np.shape(df['cvnmap']))\n",
    "print(df['neutrino']['evt'])\n",
    "event0=np.array(df['cvnmap'][3]).reshape((2,100,80))"
   ]
  },
  {
   "cell_type": "code",
   "execution_count": 5,
   "metadata": {},
   "outputs": [
    {
     "data": {
      "text/plain": [
       "<matplotlib.image.AxesImage at 0x7fbfd6710bc0>"
      ]
     },
     "execution_count": 5,
     "metadata": {},
     "output_type": "execute_result"
    },
    {
     "data": {
      "image/png": "[encoded data removed]",
      "text/plain": [
       "<Figure size 960x720 with 2 Axes>"
      ]
     },
     "metadata": {},
     "output_type": "display_data"
    }
   ],
   "source": [
    "# Plot the first event, it is a nice long muon track\n",
    "fig, ax = plt.subplots(1,2)\n",
    "ax[0].imshow(event0[1].T)\n",
    "ax[1].imshow(event0[0].T)"
   ]
  },
  {
   "cell_type": "code",
   "execution_count": 6,
   "metadata": {},
   "outputs": [
    {
     "data": {
      "text/plain": [
       "(array([3358., 1891., 1013.,  394.,  184.,   85.,   44.,   14.,    8.,\n",
       "          10.]),\n",
       " array([ 0.        ,  8.22953796, 16.45907593, 24.68861389, 32.91815186,\n",
       "        41.14768982, 49.37722778, 57.60676575, 65.83630371, 74.06584167,\n",
       "        82.29537964]),\n",
       " <BarContainer object of 10 artists>)"
      ]
     },
     "execution_count": 6,
     "metadata": {},
     "output_type": "execute_result"
    },
    {
     "data": {
      "image/png": "[encoded data removed]",
      "text/plain": [
       "<Figure size 960x720 with 1 Axes>"
      ]
     },
     "metadata": {},
     "output_type": "display_data"
    }
   ],
   "source": [
    "fs=np.array(df['neutrino']['finalstate'])\n",
    "nuenergy=np.array(df['neutrino']['nuenergy'])\n",
    "fig, ax = plt.subplots()\n",
    "ax.hist(nuenergy)"
   ]
  },
  {
   "cell_type": "code",
   "execution_count": 7,
   "metadata": {},
   "outputs": [
    {
     "name": "stdout",
     "output_type": "stream",
     "text": [
      "Downloading data from https://storage.googleapis.com/tensorflow/tf-keras-datasets/mnist.npz\n",
      "\u001b[1m11490434/11490434\u001b[0m \u001b[32m━━━━━━━━━━━━━━━━━━━━\u001b[0m\u001b[37m\u001b[0m \u001b[1m1s\u001b[0m 0us/step\n"
     ]
    }
   ],
   "source": [
    "# Load MNIST dataset\n",
    "mnist = keras.datasets.mnist\n",
    "(x_train_og, y_train), (x_test_og, y_test) = mnist.load_data()"
   ]
  },
  {
   "cell_type": "code",
   "execution_count": 8,
   "metadata": {},
   "outputs": [
    {
     "name": "stderr",
     "output_type": "stream",
     "text": [
      "/home/moistgooseberry/miniconda3/lib/python3.12/site-packages/keras/src/layers/convolutional/base_conv.py:107: UserWarning: Do not pass an `input_shape`/`input_dim` argument to a layer. When using Sequential models, prefer using an `Input(shape)` object as the first layer in the model instead.\n",
      "  super().__init__(activity_regularizer=activity_regularizer, **kwargs)\n",
      "2025-03-01 02:10:51.280512: E external/local_xla/xla/stream_executor/cuda/cuda_driver.cc:152] failed call to cuInit: INTERNAL: CUDA error: Failed call to cuInit: UNKNOWN ERROR (303)\n"
     ]
    },
    {
     "name": "stdout",
     "output_type": "stream",
     "text": [
      "Epoch 1/5\n",
      "\u001b[1m844/844\u001b[0m \u001b[32m━━━━━━━━━━━━━━━━━━━━\u001b[0m\u001b[37m\u001b[0m \u001b[1m20s\u001b[0m 21ms/step - accuracy: 0.8643 - loss: 0.4433 - val_accuracy: 0.9845 - val_loss: 0.0574\n",
      "Epoch 2/5\n",
      "\u001b[1m844/844\u001b[0m \u001b[32m━━━━━━━━━━━━━━━━━━━━\u001b[0m\u001b[37m\u001b[0m \u001b[1m18s\u001b[0m 21ms/step - accuracy: 0.9806 - loss: 0.0613 - val_accuracy: 0.9875 - val_loss: 0.0470\n",
      "Epoch 3/5\n",
      "\u001b[1m844/844\u001b[0m \u001b[32m━━━━━━━━━━━━━━━━━━━━\u001b[0m\u001b[37m\u001b[0m \u001b[1m19s\u001b[0m 22ms/step - accuracy: 0.9881 - loss: 0.0392 - val_accuracy: 0.9873 - val_loss: 0.0453\n",
      "Epoch 4/5\n",
      "\u001b[1m844/844\u001b[0m \u001b[32m━━━━━━━━━━━━━━━━━━━━\u001b[0m\u001b[37m\u001b[0m \u001b[1m20s\u001b[0m 23ms/step - accuracy: 0.9901 - loss: 0.0301 - val_accuracy: 0.9882 - val_loss: 0.0408\n",
      "Epoch 5/5\n",
      "\u001b[1m844/844\u001b[0m \u001b[32m━━━━━━━━━━━━━━━━━━━━\u001b[0m\u001b[37m\u001b[0m \u001b[1m22s\u001b[0m 26ms/step - accuracy: 0.9931 - loss: 0.0227 - val_accuracy: 0.9910 - val_loss: 0.0349\n",
      "\u001b[1m313/313\u001b[0m \u001b[32m━━━━━━━━━━━━━━━━━━━━\u001b[0m\u001b[37m\u001b[0m \u001b[1m2s\u001b[0m 6ms/step - accuracy: 0.9880 - loss: 0.0386\n",
      "Test Accuracy: 0.9903\n"
     ]
    }
   ],
   "source": [
    "# Preprocess the data\n",
    "\n",
    "# Normalize the pixel values to be between 0 and 1\n",
    "x_train = x_train_og / 255\n",
    "x_test = x_test_og / 255\n",
    "\n",
    "# Reshape for CNN input as CNNs process images as 3D tensors (height, width, channels), greyscale so 1 channel\n",
    "x_train = x_train.reshape((-1, 28, 28, 1)) # -1 at front to add channel dimension\n",
    "x_test = x_test.reshape((-1, 28, 28, 1))\n",
    "\n",
    "# Build the model\n",
    "def buildModel():\n",
    "    \"\"\"\n",
    "    Builds a convolutional neural network model for image classification.\n",
    "\n",
    "    Returns:\n",
    "    keras.models.Sequential: The compiled neural network model\n",
    "    \"\"\"\n",
    "    # Define the model\n",
    "    model = models.Sequential([\n",
    "        layers.Conv2D(32, (3,3), activation=\"relu\", input_shape=(28, 28, 1)),\n",
    "        layers.MaxPooling2D((2,2)),\n",
    "        layers.Conv2D(64, (3,3), activation=\"relu\"),\n",
    "        layers.MaxPooling2D((2,2)),\n",
    "        layers.Flatten(),\n",
    "        layers.Dense(64, activation=\"relu\"),\n",
    "        layers.Dense(10, activation=\"softmax\")\n",
    "    ])\n",
    "\n",
    "    # Compile the model\n",
    "    model.compile(\n",
    "        optimizer=\"adam\",\n",
    "        loss=\"sparse_categorical_crossentropy\",\n",
    "        metrics=[\"accuracy\"]\n",
    "    )\n",
    "\n",
    "    return model\n",
    "\n",
    "# Train the model\n",
    "base_model = buildModel()\n",
    "base_model.fit(x_train, y_train, epochs=5, batch_size=64, validation_split=0.1)\n",
    "\n",
    "# Evaluate the model\n",
    "_, test_acc = base_model.evaluate(x_test, y_test) # \"_\" is used to ignore the loss value\n",
    "print(f\"Test Accuracy: {test_acc:.4f}\")"
   ]
  }
 ],
 "metadata": {
  "kernelspec": {
   "display_name": "base",
   "language": "python",
   "name": "python3"
  },
  "language_info": {
   "codemirror_mode": {
    "name": "ipython",
    "version": 3
   },
   "file_extension": ".py",
   "mimetype": "text/x-python",
   "name": "python",
   "nbconvert_exporter": "python",
   "pygments_lexer": "ipython3",
   "version": "3.12.9"
  }
 },
 "nbformat": 4,
 "nbformat_minor": 2
}
