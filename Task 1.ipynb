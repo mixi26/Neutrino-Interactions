{
 "cells": [
  {
   "cell_type": "markdown",
   "metadata": {},
   "source": [
    "# Task 1\n",
    "Develop a machine learning classifier that can successfully identify $\\nu_\\mu$ charged-current events"
   ]
  },
  {
   "cell_type": "code",
   "execution_count": 1,
   "metadata": {},
   "outputs": [
    {
     "name": "stdout",
     "output_type": "stream",
     "text": [
      "2.10.1\n"
     ]
    }
   ],
   "source": [
    "# Import necessary libraries\n",
    "import numpy as np\n",
    "import matplotlib.pyplot as plt\n",
    "import math\n",
    "\n",
    "import tensorflow as tf\n",
    "from tensorflow import keras\n",
    "from tensorflow.keras import layers, models\n",
    "\n",
    "import matplotlib.style\n",
    "import matplotlib as mpl\n",
    "\n",
    "from scipy import linalg\n",
    "\n",
    "import h5py\n",
    "\n",
    "#Set default figure size\n",
    "#mpl.rcParams['figure.figsize'] = [12.0, 8.0]\n",
    "mpl.rcParams[\"legend.frameon\"] = False\n",
    "mpl.rcParams['figure.dpi']=150\n",
    "\n",
    "#Useful for debugging problems\n",
    "print(tf.__version__)"
   ]
  },
  {
   "cell_type": "code",
   "execution_count": 2,
   "metadata": {},
   "outputs": [],
   "source": [
    "# Load MNIST dataset\n",
    "mnist = keras.datasets.mnist\n",
    "(x_train_og, y_train), (x_test_og, y_test) = mnist.load_data()"
   ]
  },
  {
   "cell_type": "code",
   "execution_count": 3,
   "metadata": {},
   "outputs": [
    {
     "name": "stdout",
     "output_type": "stream",
     "text": [
      "Epoch 1/5\n",
      "844/844 [==============================] - 26s 30ms/step - loss: 0.1889 - accuracy: 0.9432 - val_loss: 0.0708 - val_accuracy: 0.9792\n",
      "Epoch 2/5\n",
      "844/844 [==============================] - 23s 27ms/step - loss: 0.0548 - accuracy: 0.9830 - val_loss: 0.0514 - val_accuracy: 0.9865\n",
      "Epoch 3/5\n",
      "844/844 [==============================] - 21s 25ms/step - loss: 0.0387 - accuracy: 0.9880 - val_loss: 0.0371 - val_accuracy: 0.9892\n",
      "Epoch 4/5\n",
      "844/844 [==============================] - 21s 25ms/step - loss: 0.0305 - accuracy: 0.9904 - val_loss: 0.0381 - val_accuracy: 0.9897\n",
      "Epoch 5/5\n",
      "844/844 [==============================] - 21s 25ms/step - loss: 0.0247 - accuracy: 0.9923 - val_loss: 0.0330 - val_accuracy: 0.9917\n",
      "313/313 [==============================] - 2s 6ms/step - loss: 0.0282 - accuracy: 0.9911\n",
      "Test Accuracy: 0.9911\n"
     ]
    }
   ],
   "source": [
    "# Preprocess the data\n",
    "\n",
    "# Normalize the pixel values to be between 0 and 1\n",
    "x_train = x_train_og / 255\n",
    "x_test = x_test_og / 255\n",
    "\n",
    "# Reshape for CNN input as CNNs process images as 3D tensors (height, width, channels), greyscale so 1 channel\n",
    "x_train = x_train.reshape((-1, 28, 28, 1)) # -1 at front to add channel dimension\n",
    "x_test = x_test.reshape((-1, 28, 28, 1))\n",
    "\n",
    "# Build the model\n",
    "def buildModel():\n",
    "    \"\"\"\n",
    "    Builds a convolutional neural network model for image classification.\n",
    "\n",
    "    Returns:\n",
    "    keras.models.Sequential: The compiled neural network model\n",
    "    \"\"\"\n",
    "    # Define the model\n",
    "    model = models.Sequential([\n",
    "        layers.Conv2D(32, (3,3), activation=\"relu\", input_shape=(28, 28, 1)),\n",
    "        layers.MaxPooling2D((2,2)),\n",
    "        layers.Conv2D(64, (3,3), activation=\"relu\"),\n",
    "        layers.MaxPooling2D((2,2)),\n",
    "        layers.Flatten(),\n",
    "        layers.Dense(64, activation=\"relu\"),\n",
    "        layers.Dense(10, activation=\"softmax\")\n",
    "    ])\n",
    "\n",
    "    # Compile the model\n",
    "    model.compile(\n",
    "        optimizer=\"adam\",\n",
    "        loss=\"sparse_categorical_crossentropy\",\n",
    "        metrics=[\"accuracy\"]\n",
    "    )\n",
    "\n",
    "    return model\n",
    "\n",
    "# Train the model\n",
    "base_model = buildModel()\n",
    "base_model.fit(x_train, y_train, epochs=5, batch_size=64, validation_split=0.1)\n",
    "\n",
    "# Evaluate the model\n",
    "_, test_acc = base_model.evaluate(x_test, y_test) # \"_\" is used to ignore the loss value\n",
    "print(f\"Test Accuracy: {test_acc:.4f}\")"
   ]
  }
 ],
 "metadata": {
  "kernelspec": {
   "display_name": "tf",
   "language": "python",
   "name": "python3"
  },
  "language_info": {
   "codemirror_mode": {
    "name": "ipython",
    "version": 3
   },
   "file_extension": ".py",
   "mimetype": "text/x-python",
   "name": "python",
   "nbconvert_exporter": "python",
   "pygments_lexer": "ipython3",
   "version": "3.9.21"
  }
 },
 "nbformat": 4,
 "nbformat_minor": 2
}
